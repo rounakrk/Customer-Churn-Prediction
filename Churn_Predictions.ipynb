{
 "cells": [
  {
   "cell_type": "markdown",
   "metadata": {},
   "source": [
    "# Importing necessary libraries"
   ]
  },
  {
   "cell_type": "code",
   "execution_count": 1,
   "metadata": {},
   "outputs": [],
   "source": [
    "import pandas as pd\n",
    "import numpy as np\n",
    "import matplotlib.pyplot as plt\n",
    "%matplotlib inline"
   ]
  },
  {
   "cell_type": "markdown",
   "metadata": {},
   "source": [
    "# Reading the data"
   ]
  },
  {
   "cell_type": "code",
   "execution_count": 2,
   "metadata": {},
   "outputs": [],
   "source": [
    "cp = pd.read_csv(r'churn_prediction.csv')"
   ]
  },
  {
   "cell_type": "code",
   "execution_count": 3,
   "metadata": {},
   "outputs": [
    {
     "data": {
      "text/plain": [
       "(28382, 21)"
      ]
     },
     "execution_count": 3,
     "metadata": {},
     "output_type": "execute_result"
    }
   ],
   "source": [
    "cp.shape"
   ]
  },
  {
   "cell_type": "code",
   "execution_count": 4,
   "metadata": {},
   "outputs": [
    {
     "data": {
      "text/html": [
       "<div>\n",
       "<style scoped>\n",
       "    .dataframe tbody tr th:only-of-type {\n",
       "        vertical-align: middle;\n",
       "    }\n",
       "\n",
       "    .dataframe tbody tr th {\n",
       "        vertical-align: top;\n",
       "    }\n",
       "\n",
       "    .dataframe thead th {\n",
       "        text-align: right;\n",
       "    }\n",
       "</style>\n",
       "<table border=\"1\" class=\"dataframe\">\n",
       "  <thead>\n",
       "    <tr style=\"text-align: right;\">\n",
       "      <th></th>\n",
       "      <th>customer_id</th>\n",
       "      <th>vintage</th>\n",
       "      <th>age</th>\n",
       "      <th>dependents</th>\n",
       "      <th>city</th>\n",
       "      <th>customer_nw_category</th>\n",
       "      <th>branch_code</th>\n",
       "      <th>days_since_last_transaction</th>\n",
       "      <th>current_balance</th>\n",
       "      <th>previous_month_end_balance</th>\n",
       "      <th>average_monthly_balance_prevQ</th>\n",
       "      <th>average_monthly_balance_prevQ2</th>\n",
       "      <th>current_month_credit</th>\n",
       "      <th>previous_month_credit</th>\n",
       "      <th>current_month_debit</th>\n",
       "      <th>previous_month_debit</th>\n",
       "      <th>current_month_balance</th>\n",
       "      <th>previous_month_balance</th>\n",
       "      <th>churn</th>\n",
       "    </tr>\n",
       "  </thead>\n",
       "  <tbody>\n",
       "    <tr>\n",
       "      <th>count</th>\n",
       "      <td>28382.000000</td>\n",
       "      <td>28382.000000</td>\n",
       "      <td>28382.000000</td>\n",
       "      <td>25919.000000</td>\n",
       "      <td>27579.000000</td>\n",
       "      <td>28382.000000</td>\n",
       "      <td>28382.000000</td>\n",
       "      <td>25159.000000</td>\n",
       "      <td>2.838200e+04</td>\n",
       "      <td>2.838200e+04</td>\n",
       "      <td>2.838200e+04</td>\n",
       "      <td>2.838200e+04</td>\n",
       "      <td>2.838200e+04</td>\n",
       "      <td>2.838200e+04</td>\n",
       "      <td>2.838200e+04</td>\n",
       "      <td>2.838200e+04</td>\n",
       "      <td>2.838200e+04</td>\n",
       "      <td>2.838200e+04</td>\n",
       "      <td>28382.000000</td>\n",
       "    </tr>\n",
       "    <tr>\n",
       "      <th>mean</th>\n",
       "      <td>15143.508667</td>\n",
       "      <td>2364.336446</td>\n",
       "      <td>48.208336</td>\n",
       "      <td>0.347236</td>\n",
       "      <td>796.109576</td>\n",
       "      <td>2.225530</td>\n",
       "      <td>925.975019</td>\n",
       "      <td>69.997814</td>\n",
       "      <td>7.380552e+03</td>\n",
       "      <td>7.495771e+03</td>\n",
       "      <td>7.496780e+03</td>\n",
       "      <td>7.124209e+03</td>\n",
       "      <td>3.433252e+03</td>\n",
       "      <td>3.261694e+03</td>\n",
       "      <td>3.658745e+03</td>\n",
       "      <td>3.339761e+03</td>\n",
       "      <td>7.451133e+03</td>\n",
       "      <td>7.495177e+03</td>\n",
       "      <td>0.185329</td>\n",
       "    </tr>\n",
       "    <tr>\n",
       "      <th>std</th>\n",
       "      <td>8746.454456</td>\n",
       "      <td>1610.124506</td>\n",
       "      <td>17.807163</td>\n",
       "      <td>0.997661</td>\n",
       "      <td>432.872102</td>\n",
       "      <td>0.660443</td>\n",
       "      <td>937.799129</td>\n",
       "      <td>86.341098</td>\n",
       "      <td>4.259871e+04</td>\n",
       "      <td>4.252935e+04</td>\n",
       "      <td>4.172622e+04</td>\n",
       "      <td>4.457581e+04</td>\n",
       "      <td>7.707145e+04</td>\n",
       "      <td>2.968889e+04</td>\n",
       "      <td>5.198542e+04</td>\n",
       "      <td>2.430111e+04</td>\n",
       "      <td>4.203394e+04</td>\n",
       "      <td>4.243198e+04</td>\n",
       "      <td>0.388571</td>\n",
       "    </tr>\n",
       "    <tr>\n",
       "      <th>min</th>\n",
       "      <td>1.000000</td>\n",
       "      <td>180.000000</td>\n",
       "      <td>1.000000</td>\n",
       "      <td>0.000000</td>\n",
       "      <td>0.000000</td>\n",
       "      <td>1.000000</td>\n",
       "      <td>1.000000</td>\n",
       "      <td>0.000000</td>\n",
       "      <td>-5.503960e+03</td>\n",
       "      <td>-3.149570e+03</td>\n",
       "      <td>1.428690e+03</td>\n",
       "      <td>-1.650610e+04</td>\n",
       "      <td>1.000000e-02</td>\n",
       "      <td>1.000000e-02</td>\n",
       "      <td>1.000000e-02</td>\n",
       "      <td>1.000000e-02</td>\n",
       "      <td>-3.374180e+03</td>\n",
       "      <td>-5.171920e+03</td>\n",
       "      <td>0.000000</td>\n",
       "    </tr>\n",
       "    <tr>\n",
       "      <th>25%</th>\n",
       "      <td>7557.250000</td>\n",
       "      <td>1121.000000</td>\n",
       "      <td>36.000000</td>\n",
       "      <td>0.000000</td>\n",
       "      <td>409.000000</td>\n",
       "      <td>2.000000</td>\n",
       "      <td>176.000000</td>\n",
       "      <td>11.000000</td>\n",
       "      <td>1.784470e+03</td>\n",
       "      <td>1.906000e+03</td>\n",
       "      <td>2.180945e+03</td>\n",
       "      <td>1.832507e+03</td>\n",
       "      <td>3.100000e-01</td>\n",
       "      <td>3.300000e-01</td>\n",
       "      <td>4.100000e-01</td>\n",
       "      <td>4.100000e-01</td>\n",
       "      <td>1.996765e+03</td>\n",
       "      <td>2.074408e+03</td>\n",
       "      <td>0.000000</td>\n",
       "    </tr>\n",
       "    <tr>\n",
       "      <th>50%</th>\n",
       "      <td>15150.500000</td>\n",
       "      <td>2018.000000</td>\n",
       "      <td>46.000000</td>\n",
       "      <td>0.000000</td>\n",
       "      <td>834.000000</td>\n",
       "      <td>2.000000</td>\n",
       "      <td>572.000000</td>\n",
       "      <td>30.000000</td>\n",
       "      <td>3.281255e+03</td>\n",
       "      <td>3.379915e+03</td>\n",
       "      <td>3.542865e+03</td>\n",
       "      <td>3.359600e+03</td>\n",
       "      <td>6.100000e-01</td>\n",
       "      <td>6.300000e-01</td>\n",
       "      <td>9.193000e+01</td>\n",
       "      <td>1.099600e+02</td>\n",
       "      <td>3.447995e+03</td>\n",
       "      <td>3.465235e+03</td>\n",
       "      <td>0.000000</td>\n",
       "    </tr>\n",
       "    <tr>\n",
       "      <th>75%</th>\n",
       "      <td>22706.750000</td>\n",
       "      <td>3176.000000</td>\n",
       "      <td>60.000000</td>\n",
       "      <td>0.000000</td>\n",
       "      <td>1096.000000</td>\n",
       "      <td>3.000000</td>\n",
       "      <td>1440.000000</td>\n",
       "      <td>95.000000</td>\n",
       "      <td>6.635820e+03</td>\n",
       "      <td>6.656535e+03</td>\n",
       "      <td>6.666887e+03</td>\n",
       "      <td>6.517960e+03</td>\n",
       "      <td>7.072725e+02</td>\n",
       "      <td>7.492350e+02</td>\n",
       "      <td>1.360435e+03</td>\n",
       "      <td>1.357553e+03</td>\n",
       "      <td>6.667958e+03</td>\n",
       "      <td>6.654693e+03</td>\n",
       "      <td>0.000000</td>\n",
       "    </tr>\n",
       "    <tr>\n",
       "      <th>max</th>\n",
       "      <td>30301.000000</td>\n",
       "      <td>12899.000000</td>\n",
       "      <td>90.000000</td>\n",
       "      <td>52.000000</td>\n",
       "      <td>1649.000000</td>\n",
       "      <td>3.000000</td>\n",
       "      <td>4782.000000</td>\n",
       "      <td>365.000000</td>\n",
       "      <td>5.905904e+06</td>\n",
       "      <td>5.740439e+06</td>\n",
       "      <td>5.700290e+06</td>\n",
       "      <td>5.010170e+06</td>\n",
       "      <td>1.226985e+07</td>\n",
       "      <td>2.361808e+06</td>\n",
       "      <td>7.637857e+06</td>\n",
       "      <td>1.414168e+06</td>\n",
       "      <td>5.778185e+06</td>\n",
       "      <td>5.720144e+06</td>\n",
       "      <td>1.000000</td>\n",
       "    </tr>\n",
       "  </tbody>\n",
       "</table>\n",
       "</div>"
      ],
      "text/plain": [
       "        customer_id       vintage           age    dependents          city  \\\n",
       "count  28382.000000  28382.000000  28382.000000  25919.000000  27579.000000   \n",
       "mean   15143.508667   2364.336446     48.208336      0.347236    796.109576   \n",
       "std     8746.454456   1610.124506     17.807163      0.997661    432.872102   \n",
       "min        1.000000    180.000000      1.000000      0.000000      0.000000   \n",
       "25%     7557.250000   1121.000000     36.000000      0.000000    409.000000   \n",
       "50%    15150.500000   2018.000000     46.000000      0.000000    834.000000   \n",
       "75%    22706.750000   3176.000000     60.000000      0.000000   1096.000000   \n",
       "max    30301.000000  12899.000000     90.000000     52.000000   1649.000000   \n",
       "\n",
       "       customer_nw_category   branch_code  days_since_last_transaction  \\\n",
       "count          28382.000000  28382.000000                 25159.000000   \n",
       "mean               2.225530    925.975019                    69.997814   \n",
       "std                0.660443    937.799129                    86.341098   \n",
       "min                1.000000      1.000000                     0.000000   \n",
       "25%                2.000000    176.000000                    11.000000   \n",
       "50%                2.000000    572.000000                    30.000000   \n",
       "75%                3.000000   1440.000000                    95.000000   \n",
       "max                3.000000   4782.000000                   365.000000   \n",
       "\n",
       "       current_balance  previous_month_end_balance  \\\n",
       "count     2.838200e+04                2.838200e+04   \n",
       "mean      7.380552e+03                7.495771e+03   \n",
       "std       4.259871e+04                4.252935e+04   \n",
       "min      -5.503960e+03               -3.149570e+03   \n",
       "25%       1.784470e+03                1.906000e+03   \n",
       "50%       3.281255e+03                3.379915e+03   \n",
       "75%       6.635820e+03                6.656535e+03   \n",
       "max       5.905904e+06                5.740439e+06   \n",
       "\n",
       "       average_monthly_balance_prevQ  average_monthly_balance_prevQ2  \\\n",
       "count                   2.838200e+04                    2.838200e+04   \n",
       "mean                    7.496780e+03                    7.124209e+03   \n",
       "std                     4.172622e+04                    4.457581e+04   \n",
       "min                     1.428690e+03                   -1.650610e+04   \n",
       "25%                     2.180945e+03                    1.832507e+03   \n",
       "50%                     3.542865e+03                    3.359600e+03   \n",
       "75%                     6.666887e+03                    6.517960e+03   \n",
       "max                     5.700290e+06                    5.010170e+06   \n",
       "\n",
       "       current_month_credit  previous_month_credit  current_month_debit  \\\n",
       "count          2.838200e+04           2.838200e+04         2.838200e+04   \n",
       "mean           3.433252e+03           3.261694e+03         3.658745e+03   \n",
       "std            7.707145e+04           2.968889e+04         5.198542e+04   \n",
       "min            1.000000e-02           1.000000e-02         1.000000e-02   \n",
       "25%            3.100000e-01           3.300000e-01         4.100000e-01   \n",
       "50%            6.100000e-01           6.300000e-01         9.193000e+01   \n",
       "75%            7.072725e+02           7.492350e+02         1.360435e+03   \n",
       "max            1.226985e+07           2.361808e+06         7.637857e+06   \n",
       "\n",
       "       previous_month_debit  current_month_balance  previous_month_balance  \\\n",
       "count          2.838200e+04           2.838200e+04            2.838200e+04   \n",
       "mean           3.339761e+03           7.451133e+03            7.495177e+03   \n",
       "std            2.430111e+04           4.203394e+04            4.243198e+04   \n",
       "min            1.000000e-02          -3.374180e+03           -5.171920e+03   \n",
       "25%            4.100000e-01           1.996765e+03            2.074408e+03   \n",
       "50%            1.099600e+02           3.447995e+03            3.465235e+03   \n",
       "75%            1.357553e+03           6.667958e+03            6.654693e+03   \n",
       "max            1.414168e+06           5.778185e+06            5.720144e+06   \n",
       "\n",
       "              churn  \n",
       "count  28382.000000  \n",
       "mean       0.185329  \n",
       "std        0.388571  \n",
       "min        0.000000  \n",
       "25%        0.000000  \n",
       "50%        0.000000  \n",
       "75%        0.000000  \n",
       "max        1.000000  "
      ]
     },
     "execution_count": 4,
     "metadata": {},
     "output_type": "execute_result"
    }
   ],
   "source": [
    "cp.describe()"
   ]
  },
  {
   "cell_type": "code",
   "execution_count": 5,
   "metadata": {},
   "outputs": [
    {
     "data": {
      "text/html": [
       "<div>\n",
       "<style scoped>\n",
       "    .dataframe tbody tr th:only-of-type {\n",
       "        vertical-align: middle;\n",
       "    }\n",
       "\n",
       "    .dataframe tbody tr th {\n",
       "        vertical-align: top;\n",
       "    }\n",
       "\n",
       "    .dataframe thead th {\n",
       "        text-align: right;\n",
       "    }\n",
       "</style>\n",
       "<table border=\"1\" class=\"dataframe\">\n",
       "  <thead>\n",
       "    <tr style=\"text-align: right;\">\n",
       "      <th></th>\n",
       "      <th>customer_id</th>\n",
       "      <th>vintage</th>\n",
       "      <th>age</th>\n",
       "      <th>gender</th>\n",
       "      <th>dependents</th>\n",
       "      <th>occupation</th>\n",
       "      <th>city</th>\n",
       "      <th>customer_nw_category</th>\n",
       "      <th>branch_code</th>\n",
       "      <th>days_since_last_transaction</th>\n",
       "      <th>...</th>\n",
       "      <th>previous_month_end_balance</th>\n",
       "      <th>average_monthly_balance_prevQ</th>\n",
       "      <th>average_monthly_balance_prevQ2</th>\n",
       "      <th>current_month_credit</th>\n",
       "      <th>previous_month_credit</th>\n",
       "      <th>current_month_debit</th>\n",
       "      <th>previous_month_debit</th>\n",
       "      <th>current_month_balance</th>\n",
       "      <th>previous_month_balance</th>\n",
       "      <th>churn</th>\n",
       "    </tr>\n",
       "  </thead>\n",
       "  <tbody>\n",
       "    <tr>\n",
       "      <th>0</th>\n",
       "      <td>1</td>\n",
       "      <td>3135</td>\n",
       "      <td>66</td>\n",
       "      <td>Male</td>\n",
       "      <td>0.0</td>\n",
       "      <td>self_employed</td>\n",
       "      <td>187.0</td>\n",
       "      <td>2</td>\n",
       "      <td>755</td>\n",
       "      <td>224.0</td>\n",
       "      <td>...</td>\n",
       "      <td>1458.71</td>\n",
       "      <td>1458.71</td>\n",
       "      <td>1449.07</td>\n",
       "      <td>0.20</td>\n",
       "      <td>0.20</td>\n",
       "      <td>0.20</td>\n",
       "      <td>0.20</td>\n",
       "      <td>1458.71</td>\n",
       "      <td>1458.71</td>\n",
       "      <td>0</td>\n",
       "    </tr>\n",
       "    <tr>\n",
       "      <th>1</th>\n",
       "      <td>2</td>\n",
       "      <td>310</td>\n",
       "      <td>35</td>\n",
       "      <td>Male</td>\n",
       "      <td>0.0</td>\n",
       "      <td>self_employed</td>\n",
       "      <td>NaN</td>\n",
       "      <td>2</td>\n",
       "      <td>3214</td>\n",
       "      <td>60.0</td>\n",
       "      <td>...</td>\n",
       "      <td>8704.66</td>\n",
       "      <td>7799.26</td>\n",
       "      <td>12419.41</td>\n",
       "      <td>0.56</td>\n",
       "      <td>0.56</td>\n",
       "      <td>5486.27</td>\n",
       "      <td>100.56</td>\n",
       "      <td>6496.78</td>\n",
       "      <td>8787.61</td>\n",
       "      <td>0</td>\n",
       "    </tr>\n",
       "    <tr>\n",
       "      <th>2</th>\n",
       "      <td>4</td>\n",
       "      <td>2356</td>\n",
       "      <td>31</td>\n",
       "      <td>Male</td>\n",
       "      <td>0.0</td>\n",
       "      <td>salaried</td>\n",
       "      <td>146.0</td>\n",
       "      <td>2</td>\n",
       "      <td>41</td>\n",
       "      <td>NaN</td>\n",
       "      <td>...</td>\n",
       "      <td>5815.29</td>\n",
       "      <td>4910.17</td>\n",
       "      <td>2815.94</td>\n",
       "      <td>0.61</td>\n",
       "      <td>0.61</td>\n",
       "      <td>6046.73</td>\n",
       "      <td>259.23</td>\n",
       "      <td>5006.28</td>\n",
       "      <td>5070.14</td>\n",
       "      <td>0</td>\n",
       "    </tr>\n",
       "    <tr>\n",
       "      <th>3</th>\n",
       "      <td>5</td>\n",
       "      <td>478</td>\n",
       "      <td>90</td>\n",
       "      <td>NaN</td>\n",
       "      <td>NaN</td>\n",
       "      <td>self_employed</td>\n",
       "      <td>1020.0</td>\n",
       "      <td>2</td>\n",
       "      <td>582</td>\n",
       "      <td>147.0</td>\n",
       "      <td>...</td>\n",
       "      <td>2291.91</td>\n",
       "      <td>2084.54</td>\n",
       "      <td>1006.54</td>\n",
       "      <td>0.47</td>\n",
       "      <td>0.47</td>\n",
       "      <td>0.47</td>\n",
       "      <td>2143.33</td>\n",
       "      <td>2291.91</td>\n",
       "      <td>1669.79</td>\n",
       "      <td>1</td>\n",
       "    </tr>\n",
       "    <tr>\n",
       "      <th>4</th>\n",
       "      <td>6</td>\n",
       "      <td>2531</td>\n",
       "      <td>42</td>\n",
       "      <td>Male</td>\n",
       "      <td>2.0</td>\n",
       "      <td>self_employed</td>\n",
       "      <td>1494.0</td>\n",
       "      <td>3</td>\n",
       "      <td>388</td>\n",
       "      <td>58.0</td>\n",
       "      <td>...</td>\n",
       "      <td>1401.72</td>\n",
       "      <td>1643.31</td>\n",
       "      <td>1871.12</td>\n",
       "      <td>0.33</td>\n",
       "      <td>714.61</td>\n",
       "      <td>588.62</td>\n",
       "      <td>1538.06</td>\n",
       "      <td>1157.15</td>\n",
       "      <td>1677.16</td>\n",
       "      <td>1</td>\n",
       "    </tr>\n",
       "  </tbody>\n",
       "</table>\n",
       "<p>5 rows × 21 columns</p>\n",
       "</div>"
      ],
      "text/plain": [
       "   customer_id  vintage  age gender  dependents     occupation    city  \\\n",
       "0            1     3135   66   Male         0.0  self_employed   187.0   \n",
       "1            2      310   35   Male         0.0  self_employed     NaN   \n",
       "2            4     2356   31   Male         0.0       salaried   146.0   \n",
       "3            5      478   90    NaN         NaN  self_employed  1020.0   \n",
       "4            6     2531   42   Male         2.0  self_employed  1494.0   \n",
       "\n",
       "   customer_nw_category  branch_code  days_since_last_transaction  ...  \\\n",
       "0                     2          755                        224.0  ...   \n",
       "1                     2         3214                         60.0  ...   \n",
       "2                     2           41                          NaN  ...   \n",
       "3                     2          582                        147.0  ...   \n",
       "4                     3          388                         58.0  ...   \n",
       "\n",
       "   previous_month_end_balance  average_monthly_balance_prevQ  \\\n",
       "0                     1458.71                        1458.71   \n",
       "1                     8704.66                        7799.26   \n",
       "2                     5815.29                        4910.17   \n",
       "3                     2291.91                        2084.54   \n",
       "4                     1401.72                        1643.31   \n",
       "\n",
       "   average_monthly_balance_prevQ2  current_month_credit  \\\n",
       "0                         1449.07                  0.20   \n",
       "1                        12419.41                  0.56   \n",
       "2                         2815.94                  0.61   \n",
       "3                         1006.54                  0.47   \n",
       "4                         1871.12                  0.33   \n",
       "\n",
       "   previous_month_credit  current_month_debit  previous_month_debit  \\\n",
       "0                   0.20                 0.20                  0.20   \n",
       "1                   0.56              5486.27                100.56   \n",
       "2                   0.61              6046.73                259.23   \n",
       "3                   0.47                 0.47               2143.33   \n",
       "4                 714.61               588.62               1538.06   \n",
       "\n",
       "   current_month_balance  previous_month_balance  churn  \n",
       "0                1458.71                 1458.71      0  \n",
       "1                6496.78                 8787.61      0  \n",
       "2                5006.28                 5070.14      0  \n",
       "3                2291.91                 1669.79      1  \n",
       "4                1157.15                 1677.16      1  \n",
       "\n",
       "[5 rows x 21 columns]"
      ]
     },
     "execution_count": 5,
     "metadata": {},
     "output_type": "execute_result"
    }
   ],
   "source": [
    "cp.head(5)"
   ]
  },
  {
   "cell_type": "code",
   "execution_count": 6,
   "metadata": {},
   "outputs": [
    {
     "data": {
      "text/plain": [
       "customer_id                          0\n",
       "vintage                              0\n",
       "age                                  0\n",
       "gender                             525\n",
       "dependents                        2463\n",
       "occupation                          80\n",
       "city                               803\n",
       "customer_nw_category                 0\n",
       "branch_code                          0\n",
       "days_since_last_transaction       3223\n",
       "current_balance                      0\n",
       "previous_month_end_balance           0\n",
       "average_monthly_balance_prevQ        0\n",
       "average_monthly_balance_prevQ2       0\n",
       "current_month_credit                 0\n",
       "previous_month_credit                0\n",
       "current_month_debit                  0\n",
       "previous_month_debit                 0\n",
       "current_month_balance                0\n",
       "previous_month_balance               0\n",
       "churn                                0\n",
       "dtype: int64"
      ]
     },
     "execution_count": 6,
     "metadata": {},
     "output_type": "execute_result"
    }
   ],
   "source": [
    "cp.isnull().sum()"
   ]
  },
  {
   "cell_type": "code",
   "execution_count": 7,
   "metadata": {},
   "outputs": [
    {
     "data": {
      "text/plain": [
       "customer_id                         int64\n",
       "vintage                             int64\n",
       "age                                 int64\n",
       "gender                             object\n",
       "dependents                        float64\n",
       "occupation                         object\n",
       "city                              float64\n",
       "customer_nw_category                int64\n",
       "branch_code                         int64\n",
       "days_since_last_transaction       float64\n",
       "current_balance                   float64\n",
       "previous_month_end_balance        float64\n",
       "average_monthly_balance_prevQ     float64\n",
       "average_monthly_balance_prevQ2    float64\n",
       "current_month_credit              float64\n",
       "previous_month_credit             float64\n",
       "current_month_debit               float64\n",
       "previous_month_debit              float64\n",
       "current_month_balance             float64\n",
       "previous_month_balance            float64\n",
       "churn                               int64\n",
       "dtype: object"
      ]
     },
     "execution_count": 7,
     "metadata": {},
     "output_type": "execute_result"
    }
   ],
   "source": [
    "cp.dtypes"
   ]
  },
  {
   "cell_type": "code",
   "execution_count": 8,
   "metadata": {},
   "outputs": [
    {
     "data": {
      "text/plain": [
       "0.0     21435\n",
       "2.0      2150\n",
       "1.0      1395\n",
       "3.0       701\n",
       "4.0       179\n",
       "5.0        41\n",
       "6.0         8\n",
       "7.0         3\n",
       "36.0        1\n",
       "52.0        1\n",
       "25.0        1\n",
       "9.0         1\n",
       "50.0        1\n",
       "32.0        1\n",
       "8.0         1\n",
       "Name: dependents, dtype: int64"
      ]
     },
     "execution_count": 8,
     "metadata": {},
     "output_type": "execute_result"
    }
   ],
   "source": [
    "cp['dependents'].value_counts()"
   ]
  },
  {
   "cell_type": "code",
   "execution_count": 9,
   "metadata": {},
   "outputs": [
    {
     "data": {
      "text/plain": [
       "self_employed    0.617483\n",
       "salaried         0.236874\n",
       "student          0.072716\n",
       "retired          0.071514\n",
       "company          0.001413\n",
       "Name: occupation, dtype: float64"
      ]
     },
     "execution_count": 9,
     "metadata": {},
     "output_type": "execute_result"
    }
   ],
   "source": [
    "cp['occupation'].value_counts(normalize=True)"
   ]
  },
  {
   "cell_type": "code",
   "execution_count": 10,
   "metadata": {},
   "outputs": [
    {
     "data": {
      "text/plain": [
       "0    23122\n",
       "1     5260\n",
       "Name: churn, dtype: int64"
      ]
     },
     "execution_count": 10,
     "metadata": {},
     "output_type": "execute_result"
    }
   ],
   "source": [
    "cp['churn'].value_counts()"
   ]
  },
  {
   "cell_type": "code",
   "execution_count": 11,
   "metadata": {},
   "outputs": [
    {
     "name": "stdout",
     "output_type": "stream",
     "text": [
      "<class 'pandas.core.frame.DataFrame'>\n",
      "RangeIndex: 28382 entries, 0 to 28381\n",
      "Data columns (total 21 columns):\n",
      " #   Column                          Non-Null Count  Dtype  \n",
      "---  ------                          --------------  -----  \n",
      " 0   customer_id                     28382 non-null  int64  \n",
      " 1   vintage                         28382 non-null  int64  \n",
      " 2   age                             28382 non-null  int64  \n",
      " 3   gender                          27857 non-null  object \n",
      " 4   dependents                      25919 non-null  float64\n",
      " 5   occupation                      28302 non-null  object \n",
      " 6   city                            27579 non-null  float64\n",
      " 7   customer_nw_category            28382 non-null  int64  \n",
      " 8   branch_code                     28382 non-null  int64  \n",
      " 9   days_since_last_transaction     25159 non-null  float64\n",
      " 10  current_balance                 28382 non-null  float64\n",
      " 11  previous_month_end_balance      28382 non-null  float64\n",
      " 12  average_monthly_balance_prevQ   28382 non-null  float64\n",
      " 13  average_monthly_balance_prevQ2  28382 non-null  float64\n",
      " 14  current_month_credit            28382 non-null  float64\n",
      " 15  previous_month_credit           28382 non-null  float64\n",
      " 16  current_month_debit             28382 non-null  float64\n",
      " 17  previous_month_debit            28382 non-null  float64\n",
      " 18  current_month_balance           28382 non-null  float64\n",
      " 19  previous_month_balance          28382 non-null  float64\n",
      " 20  churn                           28382 non-null  int64  \n",
      "dtypes: float64(13), int64(6), object(2)\n",
      "memory usage: 4.5+ MB\n"
     ]
    }
   ],
   "source": [
    "cp.info()"
   ]
  },
  {
   "cell_type": "code",
   "execution_count": 12,
   "metadata": {},
   "outputs": [
    {
     "data": {
      "text/plain": [
       "0.0     1672\n",
       "3.0      831\n",
       "14.0     654\n",
       "4.0      632\n",
       "6.0      596\n",
       "5.0      576\n",
       "7.0      561\n",
       "11.0     486\n",
       "13.0     478\n",
       "9.0      476\n",
       "Name: days_since_last_transaction, dtype: int64"
      ]
     },
     "execution_count": 12,
     "metadata": {},
     "output_type": "execute_result"
    }
   ],
   "source": [
    "cp['days_since_last_transaction'].value_counts().head(10)"
   ]
  },
  {
   "cell_type": "markdown",
   "metadata": {},
   "source": [
    "# Data Preprocessing"
   ]
  },
  {
   "cell_type": "code",
   "execution_count": 15,
   "metadata": {},
   "outputs": [],
   "source": [
    "cp.drop(\"customer_id\", axis=1, inplace=True)"
   ]
  },
  {
   "cell_type": "code",
   "execution_count": 16,
   "metadata": {},
   "outputs": [],
   "source": [
    "cp.gender.replace([\"Male\",\"Female\"], [1,0], inplace=True)"
   ]
  },
  {
   "cell_type": "code",
   "execution_count": 17,
   "metadata": {},
   "outputs": [],
   "source": [
    "cp['gender'] = cp['gender'].fillna(cp['gender'].mode()[0])"
   ]
  },
  {
   "cell_type": "code",
   "execution_count": 18,
   "metadata": {},
   "outputs": [],
   "source": [
    "cp['dependents'] = cp['dependents'].fillna(cp['dependents'].mode()[0])"
   ]
  },
  {
   "cell_type": "code",
   "execution_count": 19,
   "metadata": {},
   "outputs": [
    {
     "data": {
      "text/html": [
       "<div>\n",
       "<style scoped>\n",
       "    .dataframe tbody tr th:only-of-type {\n",
       "        vertical-align: middle;\n",
       "    }\n",
       "\n",
       "    .dataframe tbody tr th {\n",
       "        vertical-align: top;\n",
       "    }\n",
       "\n",
       "    .dataframe thead th {\n",
       "        text-align: right;\n",
       "    }\n",
       "</style>\n",
       "<table border=\"1\" class=\"dataframe\">\n",
       "  <thead>\n",
       "    <tr style=\"text-align: right;\">\n",
       "      <th></th>\n",
       "      <th>vintage</th>\n",
       "      <th>age</th>\n",
       "      <th>gender</th>\n",
       "      <th>dependents</th>\n",
       "      <th>occupation</th>\n",
       "      <th>city</th>\n",
       "      <th>customer_nw_category</th>\n",
       "      <th>branch_code</th>\n",
       "      <th>days_since_last_transaction</th>\n",
       "      <th>current_balance</th>\n",
       "      <th>previous_month_end_balance</th>\n",
       "      <th>average_monthly_balance_prevQ</th>\n",
       "      <th>average_monthly_balance_prevQ2</th>\n",
       "      <th>current_month_credit</th>\n",
       "      <th>previous_month_credit</th>\n",
       "      <th>current_month_debit</th>\n",
       "      <th>previous_month_debit</th>\n",
       "      <th>current_month_balance</th>\n",
       "      <th>previous_month_balance</th>\n",
       "      <th>churn</th>\n",
       "    </tr>\n",
       "  </thead>\n",
       "  <tbody>\n",
       "    <tr>\n",
       "      <th>0</th>\n",
       "      <td>3135</td>\n",
       "      <td>66</td>\n",
       "      <td>1.0</td>\n",
       "      <td>0.0</td>\n",
       "      <td>self_employed</td>\n",
       "      <td>187.0</td>\n",
       "      <td>2</td>\n",
       "      <td>755</td>\n",
       "      <td>224.0</td>\n",
       "      <td>1458.71</td>\n",
       "      <td>1458.71</td>\n",
       "      <td>1458.71</td>\n",
       "      <td>1449.07</td>\n",
       "      <td>0.20</td>\n",
       "      <td>0.20</td>\n",
       "      <td>0.20</td>\n",
       "      <td>0.20</td>\n",
       "      <td>1458.71</td>\n",
       "      <td>1458.71</td>\n",
       "      <td>0</td>\n",
       "    </tr>\n",
       "    <tr>\n",
       "      <th>1</th>\n",
       "      <td>310</td>\n",
       "      <td>35</td>\n",
       "      <td>1.0</td>\n",
       "      <td>0.0</td>\n",
       "      <td>self_employed</td>\n",
       "      <td>NaN</td>\n",
       "      <td>2</td>\n",
       "      <td>3214</td>\n",
       "      <td>60.0</td>\n",
       "      <td>5390.37</td>\n",
       "      <td>8704.66</td>\n",
       "      <td>7799.26</td>\n",
       "      <td>12419.41</td>\n",
       "      <td>0.56</td>\n",
       "      <td>0.56</td>\n",
       "      <td>5486.27</td>\n",
       "      <td>100.56</td>\n",
       "      <td>6496.78</td>\n",
       "      <td>8787.61</td>\n",
       "      <td>0</td>\n",
       "    </tr>\n",
       "    <tr>\n",
       "      <th>2</th>\n",
       "      <td>2356</td>\n",
       "      <td>31</td>\n",
       "      <td>1.0</td>\n",
       "      <td>0.0</td>\n",
       "      <td>salaried</td>\n",
       "      <td>146.0</td>\n",
       "      <td>2</td>\n",
       "      <td>41</td>\n",
       "      <td>NaN</td>\n",
       "      <td>3913.16</td>\n",
       "      <td>5815.29</td>\n",
       "      <td>4910.17</td>\n",
       "      <td>2815.94</td>\n",
       "      <td>0.61</td>\n",
       "      <td>0.61</td>\n",
       "      <td>6046.73</td>\n",
       "      <td>259.23</td>\n",
       "      <td>5006.28</td>\n",
       "      <td>5070.14</td>\n",
       "      <td>0</td>\n",
       "    </tr>\n",
       "    <tr>\n",
       "      <th>3</th>\n",
       "      <td>478</td>\n",
       "      <td>90</td>\n",
       "      <td>1.0</td>\n",
       "      <td>0.0</td>\n",
       "      <td>self_employed</td>\n",
       "      <td>1020.0</td>\n",
       "      <td>2</td>\n",
       "      <td>582</td>\n",
       "      <td>147.0</td>\n",
       "      <td>2291.91</td>\n",
       "      <td>2291.91</td>\n",
       "      <td>2084.54</td>\n",
       "      <td>1006.54</td>\n",
       "      <td>0.47</td>\n",
       "      <td>0.47</td>\n",
       "      <td>0.47</td>\n",
       "      <td>2143.33</td>\n",
       "      <td>2291.91</td>\n",
       "      <td>1669.79</td>\n",
       "      <td>1</td>\n",
       "    </tr>\n",
       "    <tr>\n",
       "      <th>4</th>\n",
       "      <td>2531</td>\n",
       "      <td>42</td>\n",
       "      <td>1.0</td>\n",
       "      <td>2.0</td>\n",
       "      <td>self_employed</td>\n",
       "      <td>1494.0</td>\n",
       "      <td>3</td>\n",
       "      <td>388</td>\n",
       "      <td>58.0</td>\n",
       "      <td>927.72</td>\n",
       "      <td>1401.72</td>\n",
       "      <td>1643.31</td>\n",
       "      <td>1871.12</td>\n",
       "      <td>0.33</td>\n",
       "      <td>714.61</td>\n",
       "      <td>588.62</td>\n",
       "      <td>1538.06</td>\n",
       "      <td>1157.15</td>\n",
       "      <td>1677.16</td>\n",
       "      <td>1</td>\n",
       "    </tr>\n",
       "    <tr>\n",
       "      <th>...</th>\n",
       "      <td>...</td>\n",
       "      <td>...</td>\n",
       "      <td>...</td>\n",
       "      <td>...</td>\n",
       "      <td>...</td>\n",
       "      <td>...</td>\n",
       "      <td>...</td>\n",
       "      <td>...</td>\n",
       "      <td>...</td>\n",
       "      <td>...</td>\n",
       "      <td>...</td>\n",
       "      <td>...</td>\n",
       "      <td>...</td>\n",
       "      <td>...</td>\n",
       "      <td>...</td>\n",
       "      <td>...</td>\n",
       "      <td>...</td>\n",
       "      <td>...</td>\n",
       "      <td>...</td>\n",
       "      <td>...</td>\n",
       "    </tr>\n",
       "    <tr>\n",
       "      <th>28377</th>\n",
       "      <td>1845</td>\n",
       "      <td>10</td>\n",
       "      <td>0.0</td>\n",
       "      <td>0.0</td>\n",
       "      <td>student</td>\n",
       "      <td>1020.0</td>\n",
       "      <td>2</td>\n",
       "      <td>1207</td>\n",
       "      <td>70.0</td>\n",
       "      <td>1076.43</td>\n",
       "      <td>1076.43</td>\n",
       "      <td>2282.19</td>\n",
       "      <td>2787.70</td>\n",
       "      <td>0.30</td>\n",
       "      <td>0.30</td>\n",
       "      <td>0.30</td>\n",
       "      <td>0.30</td>\n",
       "      <td>1076.43</td>\n",
       "      <td>1076.43</td>\n",
       "      <td>0</td>\n",
       "    </tr>\n",
       "    <tr>\n",
       "      <th>28378</th>\n",
       "      <td>4919</td>\n",
       "      <td>34</td>\n",
       "      <td>0.0</td>\n",
       "      <td>0.0</td>\n",
       "      <td>self_employed</td>\n",
       "      <td>1046.0</td>\n",
       "      <td>2</td>\n",
       "      <td>223</td>\n",
       "      <td>14.0</td>\n",
       "      <td>3844.10</td>\n",
       "      <td>4069.21</td>\n",
       "      <td>3668.83</td>\n",
       "      <td>3865.55</td>\n",
       "      <td>1.71</td>\n",
       "      <td>2.29</td>\n",
       "      <td>901.00</td>\n",
       "      <td>1014.07</td>\n",
       "      <td>3738.54</td>\n",
       "      <td>3690.32</td>\n",
       "      <td>0</td>\n",
       "    </tr>\n",
       "    <tr>\n",
       "      <th>28379</th>\n",
       "      <td>297</td>\n",
       "      <td>47</td>\n",
       "      <td>1.0</td>\n",
       "      <td>0.0</td>\n",
       "      <td>salaried</td>\n",
       "      <td>1096.0</td>\n",
       "      <td>2</td>\n",
       "      <td>588</td>\n",
       "      <td>0.0</td>\n",
       "      <td>65511.97</td>\n",
       "      <td>61017.55</td>\n",
       "      <td>53444.81</td>\n",
       "      <td>21925.81</td>\n",
       "      <td>4666.84</td>\n",
       "      <td>3883.06</td>\n",
       "      <td>168.23</td>\n",
       "      <td>71.80</td>\n",
       "      <td>61078.50</td>\n",
       "      <td>57564.24</td>\n",
       "      <td>1</td>\n",
       "    </tr>\n",
       "    <tr>\n",
       "      <th>28380</th>\n",
       "      <td>2585</td>\n",
       "      <td>50</td>\n",
       "      <td>1.0</td>\n",
       "      <td>3.0</td>\n",
       "      <td>self_employed</td>\n",
       "      <td>1219.0</td>\n",
       "      <td>3</td>\n",
       "      <td>274</td>\n",
       "      <td>NaN</td>\n",
       "      <td>1625.55</td>\n",
       "      <td>1625.55</td>\n",
       "      <td>1683.20</td>\n",
       "      <td>1857.42</td>\n",
       "      <td>0.20</td>\n",
       "      <td>0.20</td>\n",
       "      <td>0.20</td>\n",
       "      <td>0.20</td>\n",
       "      <td>1625.55</td>\n",
       "      <td>1625.55</td>\n",
       "      <td>0</td>\n",
       "    </tr>\n",
       "    <tr>\n",
       "      <th>28381</th>\n",
       "      <td>2349</td>\n",
       "      <td>18</td>\n",
       "      <td>1.0</td>\n",
       "      <td>0.0</td>\n",
       "      <td>student</td>\n",
       "      <td>1232.0</td>\n",
       "      <td>2</td>\n",
       "      <td>474</td>\n",
       "      <td>59.0</td>\n",
       "      <td>2107.05</td>\n",
       "      <td>2821.34</td>\n",
       "      <td>3213.44</td>\n",
       "      <td>4447.45</td>\n",
       "      <td>0.11</td>\n",
       "      <td>7.44</td>\n",
       "      <td>714.40</td>\n",
       "      <td>1094.09</td>\n",
       "      <td>2402.62</td>\n",
       "      <td>3260.58</td>\n",
       "      <td>1</td>\n",
       "    </tr>\n",
       "  </tbody>\n",
       "</table>\n",
       "<p>28382 rows × 20 columns</p>\n",
       "</div>"
      ],
      "text/plain": [
       "       vintage  age  gender  dependents     occupation    city  \\\n",
       "0         3135   66     1.0         0.0  self_employed   187.0   \n",
       "1          310   35     1.0         0.0  self_employed     NaN   \n",
       "2         2356   31     1.0         0.0       salaried   146.0   \n",
       "3          478   90     1.0         0.0  self_employed  1020.0   \n",
       "4         2531   42     1.0         2.0  self_employed  1494.0   \n",
       "...        ...  ...     ...         ...            ...     ...   \n",
       "28377     1845   10     0.0         0.0        student  1020.0   \n",
       "28378     4919   34     0.0         0.0  self_employed  1046.0   \n",
       "28379      297   47     1.0         0.0       salaried  1096.0   \n",
       "28380     2585   50     1.0         3.0  self_employed  1219.0   \n",
       "28381     2349   18     1.0         0.0        student  1232.0   \n",
       "\n",
       "       customer_nw_category  branch_code  days_since_last_transaction  \\\n",
       "0                         2          755                        224.0   \n",
       "1                         2         3214                         60.0   \n",
       "2                         2           41                          NaN   \n",
       "3                         2          582                        147.0   \n",
       "4                         3          388                         58.0   \n",
       "...                     ...          ...                          ...   \n",
       "28377                     2         1207                         70.0   \n",
       "28378                     2          223                         14.0   \n",
       "28379                     2          588                          0.0   \n",
       "28380                     3          274                          NaN   \n",
       "28381                     2          474                         59.0   \n",
       "\n",
       "       current_balance  previous_month_end_balance  \\\n",
       "0              1458.71                     1458.71   \n",
       "1              5390.37                     8704.66   \n",
       "2              3913.16                     5815.29   \n",
       "3              2291.91                     2291.91   \n",
       "4               927.72                     1401.72   \n",
       "...                ...                         ...   \n",
       "28377          1076.43                     1076.43   \n",
       "28378          3844.10                     4069.21   \n",
       "28379         65511.97                    61017.55   \n",
       "28380          1625.55                     1625.55   \n",
       "28381          2107.05                     2821.34   \n",
       "\n",
       "       average_monthly_balance_prevQ  average_monthly_balance_prevQ2  \\\n",
       "0                            1458.71                         1449.07   \n",
       "1                            7799.26                        12419.41   \n",
       "2                            4910.17                         2815.94   \n",
       "3                            2084.54                         1006.54   \n",
       "4                            1643.31                         1871.12   \n",
       "...                              ...                             ...   \n",
       "28377                        2282.19                         2787.70   \n",
       "28378                        3668.83                         3865.55   \n",
       "28379                       53444.81                        21925.81   \n",
       "28380                        1683.20                         1857.42   \n",
       "28381                        3213.44                         4447.45   \n",
       "\n",
       "       current_month_credit  previous_month_credit  current_month_debit  \\\n",
       "0                      0.20                   0.20                 0.20   \n",
       "1                      0.56                   0.56              5486.27   \n",
       "2                      0.61                   0.61              6046.73   \n",
       "3                      0.47                   0.47                 0.47   \n",
       "4                      0.33                 714.61               588.62   \n",
       "...                     ...                    ...                  ...   \n",
       "28377                  0.30                   0.30                 0.30   \n",
       "28378                  1.71                   2.29               901.00   \n",
       "28379               4666.84                3883.06               168.23   \n",
       "28380                  0.20                   0.20                 0.20   \n",
       "28381                  0.11                   7.44               714.40   \n",
       "\n",
       "       previous_month_debit  current_month_balance  previous_month_balance  \\\n",
       "0                      0.20                1458.71                 1458.71   \n",
       "1                    100.56                6496.78                 8787.61   \n",
       "2                    259.23                5006.28                 5070.14   \n",
       "3                   2143.33                2291.91                 1669.79   \n",
       "4                   1538.06                1157.15                 1677.16   \n",
       "...                     ...                    ...                     ...   \n",
       "28377                  0.30                1076.43                 1076.43   \n",
       "28378               1014.07                3738.54                 3690.32   \n",
       "28379                 71.80               61078.50                57564.24   \n",
       "28380                  0.20                1625.55                 1625.55   \n",
       "28381               1094.09                2402.62                 3260.58   \n",
       "\n",
       "       churn  \n",
       "0          0  \n",
       "1          0  \n",
       "2          0  \n",
       "3          1  \n",
       "4          1  \n",
       "...      ...  \n",
       "28377      0  \n",
       "28378      0  \n",
       "28379      1  \n",
       "28380      0  \n",
       "28381      1  \n",
       "\n",
       "[28382 rows x 20 columns]"
      ]
     },
     "execution_count": 19,
     "metadata": {},
     "output_type": "execute_result"
    }
   ],
   "source": [
    "cp"
   ]
  },
  {
   "cell_type": "code",
   "execution_count": 20,
   "metadata": {},
   "outputs": [],
   "source": [
    "cp['occupation'] = cp['occupation'].fillna('self_employed')"
   ]
  },
  {
   "cell_type": "code",
   "execution_count": 21,
   "metadata": {},
   "outputs": [
    {
     "data": {
      "text/plain": [
       "vintage                              0\n",
       "age                                  0\n",
       "gender                               0\n",
       "dependents                           0\n",
       "occupation                           0\n",
       "city                               803\n",
       "customer_nw_category                 0\n",
       "branch_code                          0\n",
       "days_since_last_transaction       3223\n",
       "current_balance                      0\n",
       "previous_month_end_balance           0\n",
       "average_monthly_balance_prevQ        0\n",
       "average_monthly_balance_prevQ2       0\n",
       "current_month_credit                 0\n",
       "previous_month_credit                0\n",
       "current_month_debit                  0\n",
       "previous_month_debit                 0\n",
       "current_month_balance                0\n",
       "previous_month_balance               0\n",
       "churn                                0\n",
       "dtype: int64"
      ]
     },
     "execution_count": 21,
     "metadata": {},
     "output_type": "execute_result"
    }
   ],
   "source": [
    "cp.isnull().sum()"
   ]
  },
  {
   "cell_type": "code",
   "execution_count": 22,
   "metadata": {},
   "outputs": [],
   "source": [
    "cp['days_since_last_transaction'] = cp['days_since_last_transaction'].fillna(cp['days_since_last_transaction'].mean())"
   ]
  },
  {
   "cell_type": "code",
   "execution_count": 23,
   "metadata": {},
   "outputs": [],
   "source": [
    "cp['city'] = cp['city'].fillna(cp['city'].mean())"
   ]
  },
  {
   "cell_type": "code",
   "execution_count": 25,
   "metadata": {},
   "outputs": [],
   "source": [
    "from sklearn.preprocessing import LabelEncoder\n",
    "lb = LabelEncoder()\n",
    "cp['occupation'] = lb.fit_transform(cp['occupation'])"
   ]
  },
  {
   "cell_type": "code",
   "execution_count": 26,
   "metadata": {},
   "outputs": [
    {
     "name": "stdout",
     "output_type": "stream",
     "text": [
      "<class 'pandas.core.frame.DataFrame'>\n",
      "RangeIndex: 28382 entries, 0 to 28381\n",
      "Data columns (total 20 columns):\n",
      " #   Column                          Non-Null Count  Dtype  \n",
      "---  ------                          --------------  -----  \n",
      " 0   vintage                         28382 non-null  int64  \n",
      " 1   age                             28382 non-null  int64  \n",
      " 2   gender                          28382 non-null  float64\n",
      " 3   dependents                      28382 non-null  float64\n",
      " 4   occupation                      28382 non-null  int32  \n",
      " 5   city                            28382 non-null  float64\n",
      " 6   customer_nw_category            28382 non-null  int64  \n",
      " 7   branch_code                     28382 non-null  int64  \n",
      " 8   days_since_last_transaction     28382 non-null  float64\n",
      " 9   current_balance                 28382 non-null  float64\n",
      " 10  previous_month_end_balance      28382 non-null  float64\n",
      " 11  average_monthly_balance_prevQ   28382 non-null  float64\n",
      " 12  average_monthly_balance_prevQ2  28382 non-null  float64\n",
      " 13  current_month_credit            28382 non-null  float64\n",
      " 14  previous_month_credit           28382 non-null  float64\n",
      " 15  current_month_debit             28382 non-null  float64\n",
      " 16  previous_month_debit            28382 non-null  float64\n",
      " 17  current_month_balance           28382 non-null  float64\n",
      " 18  previous_month_balance          28382 non-null  float64\n",
      " 19  churn                           28382 non-null  int64  \n",
      "dtypes: float64(14), int32(1), int64(5)\n",
      "memory usage: 4.2 MB\n"
     ]
    }
   ],
   "source": [
    "cp.info()"
   ]
  },
  {
   "cell_type": "markdown",
   "metadata": {},
   "source": [
    "# Model Building"
   ]
  },
  {
   "cell_type": "code",
   "execution_count": 27,
   "metadata": {},
   "outputs": [],
   "source": [
    "X=cp.drop(\"churn\",axis=1)\n",
    "y=cp.churn"
   ]
  },
  {
   "cell_type": "code",
   "execution_count": 28,
   "metadata": {},
   "outputs": [
    {
     "name": "stdout",
     "output_type": "stream",
     "text": [
      "(19867, 19) (19867,) (8515, 19) (8515,)\n"
     ]
    }
   ],
   "source": [
    "from sklearn.model_selection import train_test_split\n",
    "X_train, X_test, y_train, y_test = train_test_split(X, y, test_size=0.3, random_state=32)\n",
    "print(X_train.shape, y_train.shape, X_test.shape, y_test.shape)"
   ]
  },
  {
   "cell_type": "code",
   "execution_count": 29,
   "metadata": {},
   "outputs": [],
   "source": [
    "from sklearn.ensemble import RandomForestClassifier\n",
    "from sklearn.metrics import classification_report, confusion_matrix, accuracy_score"
   ]
  },
  {
   "cell_type": "code",
   "execution_count": 30,
   "metadata": {},
   "outputs": [
    {
     "data": {
      "text/plain": [
       "RandomForestClassifier(bootstrap=True, ccp_alpha=0.0, class_weight=None,\n",
       "                       criterion='gini', max_depth=20, max_features='auto',\n",
       "                       max_leaf_nodes=None, max_samples=None,\n",
       "                       min_impurity_decrease=0.0, min_impurity_split=None,\n",
       "                       min_samples_leaf=1, min_samples_split=2,\n",
       "                       min_weight_fraction_leaf=0.0, n_estimators=100,\n",
       "                       n_jobs=None, oob_score=False, random_state=40, verbose=0,\n",
       "                       warm_start=False)"
      ]
     },
     "execution_count": 30,
     "metadata": {},
     "output_type": "execute_result"
    }
   ],
   "source": [
    "rf = RandomForestClassifier(n_estimators=100, max_depth=20, random_state=40)\n",
    "rf.fit(X_train, y_train)"
   ]
  },
  {
   "cell_type": "markdown",
   "metadata": {},
   "source": [
    "# Testing the model"
   ]
  },
  {
   "cell_type": "code",
   "execution_count": 31,
   "metadata": {},
   "outputs": [
    {
     "data": {
      "text/plain": [
       "(0.9706045200583883, 0.8650616559013505)"
      ]
     },
     "execution_count": 31,
     "metadata": {},
     "output_type": "execute_result"
    }
   ],
   "source": [
    "score = rf.score(X_train, y_train)\n",
    "score2 = rf.score(X_test, y_test)\n",
    "score, score2"
   ]
  },
  {
   "cell_type": "code",
   "execution_count": 32,
   "metadata": {},
   "outputs": [],
   "source": [
    "y_pred = rf.predict(X_test)"
   ]
  },
  {
   "cell_type": "code",
   "execution_count": 33,
   "metadata": {},
   "outputs": [
    {
     "name": "stdout",
     "output_type": "stream",
     "text": [
      "[[6639  300]\n",
      " [ 849  727]]\n"
     ]
    }
   ],
   "source": [
    "print(confusion_matrix(y_test, y_pred))"
   ]
  },
  {
   "cell_type": "code",
   "execution_count": 34,
   "metadata": {},
   "outputs": [
    {
     "name": "stdout",
     "output_type": "stream",
     "text": [
      "0.8650616559013505\n"
     ]
    }
   ],
   "source": [
    "print(accuracy_score(y_test, y_pred))"
   ]
  },
  {
   "cell_type": "code",
   "execution_count": 35,
   "metadata": {},
   "outputs": [],
   "source": [
    "fe = pd.DataFrame({'features':list(X_train.columns), 'importance':rf.feature_importances_}).sort_values('importance', ascending=False)"
   ]
  },
  {
   "cell_type": "code",
   "execution_count": 62,
   "metadata": {},
   "outputs": [
    {
     "data": {
      "text/html": [
       "<div>\n",
       "<style scoped>\n",
       "    .dataframe tbody tr th:only-of-type {\n",
       "        vertical-align: middle;\n",
       "    }\n",
       "\n",
       "    .dataframe tbody tr th {\n",
       "        vertical-align: top;\n",
       "    }\n",
       "\n",
       "    .dataframe thead th {\n",
       "        text-align: right;\n",
       "    }\n",
       "</style>\n",
       "<table border=\"1\" class=\"dataframe\">\n",
       "  <thead>\n",
       "    <tr style=\"text-align: right;\">\n",
       "      <th></th>\n",
       "      <th>features</th>\n",
       "      <th>importance</th>\n",
       "    </tr>\n",
       "  </thead>\n",
       "  <tbody>\n",
       "    <tr>\n",
       "      <th>9</th>\n",
       "      <td>current_balance</td>\n",
       "      <td>0.205777</td>\n",
       "    </tr>\n",
       "    <tr>\n",
       "      <th>17</th>\n",
       "      <td>current_month_balance</td>\n",
       "      <td>0.087602</td>\n",
       "    </tr>\n",
       "    <tr>\n",
       "      <th>15</th>\n",
       "      <td>current_month_debit</td>\n",
       "      <td>0.083829</td>\n",
       "    </tr>\n",
       "    <tr>\n",
       "      <th>16</th>\n",
       "      <td>previous_month_debit</td>\n",
       "      <td>0.065349</td>\n",
       "    </tr>\n",
       "    <tr>\n",
       "      <th>12</th>\n",
       "      <td>average_monthly_balance_prevQ2</td>\n",
       "      <td>0.061457</td>\n",
       "    </tr>\n",
       "    <tr>\n",
       "      <th>10</th>\n",
       "      <td>previous_month_end_balance</td>\n",
       "      <td>0.059958</td>\n",
       "    </tr>\n",
       "    <tr>\n",
       "      <th>11</th>\n",
       "      <td>average_monthly_balance_prevQ</td>\n",
       "      <td>0.059761</td>\n",
       "    </tr>\n",
       "    <tr>\n",
       "      <th>18</th>\n",
       "      <td>previous_month_balance</td>\n",
       "      <td>0.057168</td>\n",
       "    </tr>\n",
       "    <tr>\n",
       "      <th>0</th>\n",
       "      <td>vintage</td>\n",
       "      <td>0.046788</td>\n",
       "    </tr>\n",
       "    <tr>\n",
       "      <th>13</th>\n",
       "      <td>current_month_credit</td>\n",
       "      <td>0.044539</td>\n",
       "    </tr>\n",
       "  </tbody>\n",
       "</table>\n",
       "</div>"
      ],
      "text/plain": [
       "                          features  importance\n",
       "9                  current_balance    0.205777\n",
       "17           current_month_balance    0.087602\n",
       "15             current_month_debit    0.083829\n",
       "16            previous_month_debit    0.065349\n",
       "12  average_monthly_balance_prevQ2    0.061457\n",
       "10      previous_month_end_balance    0.059958\n",
       "11   average_monthly_balance_prevQ    0.059761\n",
       "18          previous_month_balance    0.057168\n",
       "0                          vintage    0.046788\n",
       "13            current_month_credit    0.044539"
      ]
     },
     "execution_count": 62,
     "metadata": {},
     "output_type": "execute_result"
    }
   ],
   "source": [
    "fe.head(10)"
   ]
  },
  {
   "cell_type": "markdown",
   "metadata": {},
   "source": [
    "# Decision tree Classifier"
   ]
  },
  {
   "cell_type": "code",
   "execution_count": 48,
   "metadata": {},
   "outputs": [],
   "source": [
    "from sklearn.tree import DecisionTreeClassifier\n",
    "dt_clf = DecisionTreeClassifier(criterion='entropy', min_samples_split=200)"
   ]
  },
  {
   "cell_type": "code",
   "execution_count": 49,
   "metadata": {},
   "outputs": [
    {
     "data": {
      "text/plain": [
       "DecisionTreeClassifier(ccp_alpha=0.0, class_weight=None, criterion='entropy',\n",
       "                       max_depth=None, max_features=None, max_leaf_nodes=None,\n",
       "                       min_impurity_decrease=0.0, min_impurity_split=None,\n",
       "                       min_samples_leaf=1, min_samples_split=200,\n",
       "                       min_weight_fraction_leaf=0.0, presort='deprecated',\n",
       "                       random_state=None, splitter='best')"
      ]
     },
     "execution_count": 49,
     "metadata": {},
     "output_type": "execute_result"
    }
   ],
   "source": [
    "dt_clf.fit(X_train, y_train)"
   ]
  },
  {
   "cell_type": "code",
   "execution_count": 50,
   "metadata": {},
   "outputs": [],
   "source": [
    "socre = accuracy_score(y_train, dt_clf.predict(X_train)) #training accuracy\n",
    "score1 = accuracy_score(y_test, dt_clf.predict(X_test)) #testing accuracy"
   ]
  },
  {
   "cell_type": "code",
   "execution_count": 51,
   "metadata": {},
   "outputs": [
    {
     "data": {
      "text/plain": [
       "(0.9706045200583883, 0.851556077510276)"
      ]
     },
     "execution_count": 51,
     "metadata": {},
     "output_type": "execute_result"
    }
   ],
   "source": [
    "score, score1"
   ]
  },
  {
   "cell_type": "markdown",
   "metadata": {},
   "source": [
    "# KNN"
   ]
  },
  {
   "cell_type": "code",
   "execution_count": 52,
   "metadata": {},
   "outputs": [],
   "source": [
    "from sklearn.preprocessing import StandardScaler\n",
    "\n",
    "sc = StandardScaler().fit(X_train)\n",
    "X_train_std = sc.transform(X_train)\n",
    "X_test_std = sc.transform(X_test)"
   ]
  },
  {
   "cell_type": "code",
   "execution_count": 58,
   "metadata": {},
   "outputs": [
    {
     "data": {
      "text/plain": [
       "KNeighborsClassifier(algorithm='auto', leaf_size=30, metric='minkowski',\n",
       "                     metric_params=None, n_jobs=None, n_neighbors=17, p=2,\n",
       "                     weights='uniform')"
      ]
     },
     "execution_count": 58,
     "metadata": {},
     "output_type": "execute_result"
    }
   ],
   "source": [
    "from sklearn.neighbors import KNeighborsClassifier\n",
    "\n",
    "knn = KNeighborsClassifier(n_neighbors=17)\n",
    "knn.fit(X_train_std,y_train)"
   ]
  },
  {
   "cell_type": "code",
   "execution_count": 59,
   "metadata": {},
   "outputs": [
    {
     "name": "stdout",
     "output_type": "stream",
     "text": [
      "Accuracy of the KNN classifier is: 81.5619495008808\n"
     ]
    }
   ],
   "source": [
    "#prediction of the KNN model\n",
    "predict_knn = knn.predict(X_test_std)\n",
    "accuracy_knn = accuracy_score(y_test,predict_knn)*100\n",
    "print(\"Accuracy of the KNN classifier is:\",accuracy_knn) #testing accuracy"
   ]
  },
  {
   "cell_type": "code",
   "execution_count": 61,
   "metadata": {},
   "outputs": [
    {
     "data": {
      "text/plain": [
       "81.6177580913072"
      ]
     },
     "execution_count": 61,
     "metadata": {},
     "output_type": "execute_result"
    }
   ],
   "source": [
    "accuracy_score(y_train, knn.predict(X_train_std))*100 #training accuracy"
   ]
  },
  {
   "cell_type": "markdown",
   "metadata": {},
   "source": [
    "###  As we can see from the above 3 models that KNN algorithm gives us the best fit model with training accuracy of 81.6% and testing accuracy of 81.5%"
   ]
  }
 ],
 "metadata": {
  "kernelspec": {
   "display_name": "Python 3",
   "language": "python",
   "name": "python3"
  },
  "language_info": {
   "codemirror_mode": {
    "name": "ipython",
    "version": 3
   },
   "file_extension": ".py",
   "mimetype": "text/x-python",
   "name": "python",
   "nbconvert_exporter": "python",
   "pygments_lexer": "ipython3",
   "version": "3.6.10"
  }
 },
 "nbformat": 4,
 "nbformat_minor": 4
}
